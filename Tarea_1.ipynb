{
 "cells": [
  {
   "cell_type": "markdown",
   "metadata": {},
   "source": [
    "# Tarea 1"
   ]
  },
  {
   "cell_type": "code",
   "execution_count": 13,
   "metadata": {},
   "outputs": [],
   "source": [
    "import validaciones"
   ]
  },
  {
   "cell_type": "markdown",
   "metadata": {},
   "source": [
    "## 1 - Problema del Sencillo\n",
    "Convertir una cantidad de dinero $x$ en monedas, utilizando la menor cantidad de monedas posibles.\n",
    "\n",
    "**Entrada**: Un numero entero que representa la cantidad de dinero y un arreglo d de las denominaciones de las monedas $c = (Q1.0, Q0.50, Q0.25, Q0.1)$ , \n",
    "en orden decreciente de valor $(c1 > c2 > ··· > c_{n})$\n",
    "\n",
    "**Salida**: Una lista de enteros  $i_{1}, i_{2},..., i_{d}$ \n",
    "tales que $c_{1} · i_{1} + c_{2}· i_{2} +··· + c_{d} · i_{d} = dinero$, \n",
    "y $i_{1} + i_{2} + ··· + i_{d}$ es lo mas pequeño posible"
   ]
  },
  {
   "cell_type": "code",
   "execution_count": 8,
   "metadata": {},
   "outputs": [
    {
     "name": "stdout",
     "output_type": "stream",
     "text": [
      "[2, 0, 1, 1]\n"
     ]
    }
   ],
   "source": [
    "monedas = [1, 0.50,0.25,0.1]\n",
    "\n",
    "dinero = 2.35\n",
    "     \n",
    "     \n",
    "def hacer_sencillo(dinero, monedas):\n",
    "    ## TU CODIGO AQUI:\n",
    "    listamonedas = []\n",
    "    for i in range(len(monedas)):\n",
    "        cantidadpormoneda = dinero // monedas[i]\n",
    "        listamonedas.append(int(cantidadpormoneda))\n",
    "        dinero -= cantidadpormoneda*monedas[i]  \n",
    "    print (listamonedas)\n",
    "\n",
    "hacer_sencillo(dinero,monedas)\n"
   ]
  },
  {
   "cell_type": "markdown",
   "metadata": {},
   "source": [
    "## 2 - Sumando N series\n",
    "\n",
    "Tenemos una secuencia cuyo $n^{th}$ es:\n",
    "\\begin{equation*}\n",
    "\\ T_n = n^2 - (n-1)^2\n",
    "\\end{equation*}\n",
    "\n",
    "Hay que evaluar las series:\n",
    "\\begin{equation*}\n",
    "\\ S_n = T_1 + T_2 + ... + T_n\n",
    "\\end{equation*}\n",
    "\n",
    "\n",
    "**Instrucciones**\n",
    "En la siguiente celda en la funcion summingSeries debemos **retornar** en valor de $S_n$, tenemos como entrada n\n",
    "\n",
    "**Ejemplo 1:**\n",
    "\n",
    "Si la entrada es 2\n",
    "\n",
    "Salida:\n",
    "4\n",
    "\n",
    "Explicacion:\n",
    "\n",
    "$T_1 = 1$\n",
    "\n",
    "$T_2 = 3$\n",
    "\n",
    "$S_2 = T_1 + T_2$\n",
    "\n",
    "$S_2 = 4 $\n",
    "\n",
    "\n",
    "\n",
    "**Tip :**\n",
    "Antes te implementar $S_n$ debemos analizar el problema y ver si podemos reducir la complejidad."
   ]
  },
  {
   "cell_type": "code",
   "execution_count": 38,
   "metadata": {},
   "outputs": [
    {
     "data": {
      "text/plain": [
       "16"
      ]
     },
     "execution_count": 38,
     "metadata": {},
     "output_type": "execute_result"
    }
   ],
   "source": [
    "def summatoriaSerie(n):\n",
    "    return n**2\n",
    "    \n",
    "\n",
    "    \"\"\"\n",
    "    La funcion recibe como parametro n y retorna el valor se la serie\n",
    "    \"\"\"\n",
    "    # tu codigo aqui\n",
    "\n",
    "summatoriaSerie(4)"
   ]
  },
  {
   "cell_type": "markdown",
   "metadata": {},
   "source": [
    "#### 2.1 - Ciclos\n",
    "\n",
    "Crea un ciclo for que imprima el resultado de la funcion **summingSeries** desde 1 hasta 10"
   ]
  },
  {
   "cell_type": "code",
   "execution_count": 39,
   "metadata": {},
   "outputs": [
    {
     "name": "stdout",
     "output_type": "stream",
     "text": [
      "1\n",
      "4\n",
      "9\n",
      "16\n",
      "25\n",
      "36\n",
      "49\n",
      "64\n",
      "81\n",
      "100\n"
     ]
    }
   ],
   "source": [
    "## Tu codigo aqui\n",
    "\n",
    "for i in range(1,11):\n",
    "    print(summatoriaSerie(i))"
   ]
  },
  {
   "cell_type": "markdown",
   "metadata": {},
   "source": [
    "### Pruebas  Automaticas\n",
    "\n",
    "Todas las pruebas deben funcionar para obetener los puntos del ejercicio.\n",
    "\n",
    "##### Importante :\n",
    "En este ejercicio se evalua que la funcion sea optima, el tiempo de ejecucion tiene que ser el menor posible, se va a evaluar el resultado correcto y el tiempo de ejecucion, si en alguna de las pruebas obtienes **[FALLO: TIMEOUT]** la funcion no es optima debes cambiarla hasta que todas las pruebas pasen"
   ]
  },
  {
   "cell_type": "code",
   "execution_count": 41,
   "metadata": {},
   "outputs": [
    {
     "name": "stdout",
     "output_type": "stream",
     "text": [
      "Prueba 1\n",
      "Run time: 0.0\n",
      "Prueba 1[CORRECTA]\n",
      "Prueba 2\n",
      "Run time: 0.0\n",
      "Prueba 2[CORRECTA]\n",
      "Prueba 3\n",
      "Run time: 0.0\n",
      "Prueba 3[CORRECTA]\n",
      "Prueba 4\n",
      "Run time: 0.0\n",
      "Prueba 4[CORRECTA]\n",
      "Prueba 5\n",
      "Run time: 0.0\n",
      "Prueba 5[CORRECTA]\n",
      "Prueba 6\n",
      "Run time: 0.0\n",
      "Prueba 6[CORRECTA]\n"
     ]
    }
   ],
   "source": [
    "validaciones.summingSeries_function(summatoriaSerie)"
   ]
  },
  {
   "cell_type": "markdown",
   "metadata": {},
   "source": [
    "## 3 - Rotacion de listas hacia la izquierda\n",
    "\n",
    "Una rotacion a la izquierda en un arreglo mueve cada elemento del arreglo una vez hacia la izquierda. Por ejemplo, si hacemos $1$ rotacion en en el arreglo $[1,2,3,4,5]$, el arreglo resultante seria $[2,3,4,5,1]$\n",
    "\n",
    "#### Descipcion de la funcion\n",
    "Dado un arreglo $a$ de $n$ integers y un numero $d$ de rotaciones, realizar $d$ rotaciones hacia la izquierda. La funcion debe retorner el arreglo re-ordenado.\n",
    "\n",
    "**rotIzquierda** tiene los siguientes parametros:\n",
    "\n",
    "* $a$ Un arreglo de numeros entreros.\n",
    "* $d$ numero de rotaciones."
   ]
  },
  {
   "cell_type": "code",
   "execution_count": 12,
   "metadata": {},
   "outputs": [],
   "source": [
    "def rotIzquierda(a, d):\n",
    "    temp = list(a)\n",
    "    for i in range(0,len(a)):\n",
    "        a[i-d] = temp[i]\n",
    "    return a\n",
    "    # tu codigo aqui\n"
   ]
  },
  {
   "cell_type": "code",
   "execution_count": 13,
   "metadata": {},
   "outputs": [
    {
     "data": {
      "text/plain": [
       "[5, 1, 2, 3, 4]"
      ]
     },
     "execution_count": 13,
     "metadata": {},
     "output_type": "execute_result"
    }
   ],
   "source": [
    "rotIzquierda([1, 2, 3, 4, 5], 4)\n",
    "# Resultado: [5, 1, 2, 3, 4]\n"
   ]
  },
  {
   "cell_type": "markdown",
   "metadata": {},
   "source": [
    "### Pruebas  Automaticas\n",
    "\n",
    "Todas las pruebas deben funcionar para obetener los puntos del ejercicio.\n",
    "\n",
    "##### Importante :\n",
    "En este ejercicio se evalua que la funcion sea optima, el tiempo de ejecucion tiene que ser el menor posible, se va a evaluar el resultado correcto y el tiempo de ejecucion, si en alguna de las pruebas obtienes **[FALLO: TIMEOUT]** la funcion no es optima debes cambiarla hasta que todas las pruebas pasen\n",
    "\n",
    "#### TIP:\n",
    "Utiliza **slice** en el array para optimizar la funcion"
   ]
  },
  {
   "cell_type": "code",
   "execution_count": 14,
   "metadata": {},
   "outputs": [
    {
     "name": "stdout",
     "output_type": "stream",
     "text": [
      "Prueba 1\n",
      "Prueba 1[CORRECTA]\n",
      "Prueba 2\n",
      "Prueba 2[CORRECTA]\n",
      "Prueba 3\n",
      "Prueba 3[CORRECTA]\n"
     ]
    }
   ],
   "source": [
    "validaciones.rotIzquierda_function(rotIzquierda)"
   ]
  },
  {
   "cell_type": "markdown",
   "metadata": {},
   "source": [
    "## 4 - Factores Primos\n",
    "\n",
    "Para cada $n$ queremos obtener el conteo maximo de numeros primos unicos en en rango inclusivo $[1, n]$,\n",
    "y retornar el valor del conteo en una nueva linea\n",
    "\n",
    "**Nota:** Recuerda que un numero primo solo es divisible por el mismo y que 1 no es un numero primo\n",
    "\n",
    "##### Ejemplos:\n",
    "\n",
    "###### Ejemplo 1\n",
    "Entrada: 1\n",
    "\n",
    "Salida esperada: 1\n",
    "\n",
    "Explicacion: El numero maximo de factores primos unicos en el rango inclusivo $[1,1]$ es $0$, porque $1$ no es un numero primo.\n",
    "\n",
    "###### Ejemplo 2\n",
    "Entrada: 3\n",
    "\n",
    "Salida esperada: 1\n",
    "\n",
    "Explicacion: El numero maximo de factores primos unicos en el rango inclusivo $[1,3]$ es $1$, porque el numero $3$ tiene 1 factor primo unico (el mismo) \n",
    "\n",
    "###### Ejemplo 3\n",
    "Entrada: 500\n",
    "\n",
    "Salida esperada: 4\n",
    "\n",
    "Explicacion: El numero maximo de factores primos unicos en el rango inclusivo $[1,500]$ es $4$, porque el producto de los primeros cuatro numeros primos unicos es $2 \\times 3 \\times 5 \\times 7 = 210$ y no hay ningun numero primo unico que multiplicado por el resultado sea $\t\\leqslant 500$\n",
    "\n",
    "\n",
    "\n",
    "#### Tip: \n",
    "Utiliza la funcion `range()` de python\n"
   ]
  },
  {
   "cell_type": "code",
   "execution_count": 1,
   "metadata": {},
   "outputs": [],
   "source": [
    "def conteoPrimos(n):\n",
    "    primelist = [2,3]\n",
    "    primecounter = 2\n",
    "    product = 1\n",
    "    number = primelist[-1]\n",
    "    if n == 1:\n",
    "        return 0\n",
    "    elif n == 2 or n == 3:\n",
    "        return 1\n",
    "    else:\n",
    "        while product < n:\n",
    "            number += 2 \n",
    "            product = 1\n",
    "            counter = 0\n",
    "            for i in range(1,number+1):\n",
    "                if number%i == 0:\n",
    "                    counter += 1\n",
    "            if counter == 2:\n",
    "                primelist.append(number)\n",
    "                primecounter += 1\n",
    "            else:\n",
    "                continue\n",
    "            for i in primelist:\n",
    "                product *= i\n",
    "            if product == n:\n",
    "                primecounter +=1\n",
    "    return (primecounter -1)\n",
    "            \n",
    "                \n",
    "    \"\"\"\n",
    "    Esta funcion recibe como parametro n y \n",
    "    retorna el conteo maximo de numeros primos unicos\n",
    "    \"\"\"\n",
    "    # tu codigo aqui"
   ]
  },
  {
   "cell_type": "markdown",
   "metadata": {},
   "source": [
    "### Pruebas"
   ]
  },
  {
   "cell_type": "code",
   "execution_count": 25,
   "metadata": {},
   "outputs": [
    {
     "data": {
      "text/plain": [
       "0"
      ]
     },
     "execution_count": 25,
     "metadata": {},
     "output_type": "execute_result"
    }
   ],
   "source": [
    "conteoPrimos(1)"
   ]
  },
  {
   "cell_type": "code",
   "execution_count": 26,
   "metadata": {},
   "outputs": [
    {
     "data": {
      "text/plain": [
       "4"
      ]
     },
     "execution_count": 26,
     "metadata": {},
     "output_type": "execute_result"
    }
   ],
   "source": [
    "conteoPrimos(500)"
   ]
  },
  {
   "cell_type": "code",
   "execution_count": 2,
   "metadata": {
    "scrolled": true
   },
   "outputs": [
    {
     "name": "stdout",
     "output_type": "stream",
     "text": [
      "615\n",
      "--- 0.8606605529785156 seconds ---\n"
     ]
    }
   ],
   "source": [
    "import time\n",
    "start_time = time.time()\n",
    "\n",
    "x = conteoPrimos(21239458239058123948123904812123948123481234091283409128340912834091823409182340918234098123409812340918234091823409182340934890123481234812348901234091823409182340981234098123409812341092348190234801234891023489102349810234981023948120394812309481203498210349812304981234098123049812304981234098123409182340918234091823409182340918234019823434123412341234122134123412341234123412983401283490128349012839401283490128234901283490123489102384910234891023489102348912034891203481028340981230481290348190234891023840123948102394810239841023984102398401239840192384019283409182340912834019823409812304981230498123094812034981023948123049812304981209348120934810239481023984019238401293840912398401238490182349018230948123904819230891230481293408129304812343412341234123412341234123412341237849127348971238497112341234890123849182349018230498123904819203489102348910234891023489120348910234891023489102348910234891203489102348910234891023489123048910234891203489123412349812340891203489120348901234891230489123048910234891023489102348910234891023489102348910234891023489102348910234891023489102348910234891023489102348910234891023489102348910234891023481902348192034891023489012341203489102348910234891023489102348910234891203489120348912034891203489102348912034891230481923402893578123957123894712389407102394781234081273489172348971238947123894712389471283947182934718293412341279787897897897897898977987898977898977897897897897998798798798789798723148123047810923470912340891723409817234098127340981723409187234098127340981273409812374091823740198273409812734908172343410923481902384091234018234081234012304981234091823401293840912384123408712304710823748912374812374981237481239848712304917239048712304891273409178234890172834091273409182374190283478231748019237408912734091238471908237401928347098127340918237409812734098127340981723409817234098712340987123049871230498712340987123409871234098712340987123409871234098712340987123409817234)\n",
    "print(x)\n",
    "print(\"--- %s seconds ---\" % (time.time() - start_time))"
   ]
  },
  {
   "cell_type": "markdown",
   "metadata": {},
   "source": [
    "### Pruebas  Automaticas\n",
    "\n",
    "Todas las pruebas deben funcionar para obetener los puntos del ejercicio.\n",
    "\n",
    "##### Importante :\n",
    "En este ejercicio se evalua que la funcion sea optima, el tiempo de ejecucion tiene que ser el menor posible, se va a evaluar el resultado correcto y el tiempo de ejecucion, si en alguna de las pruebas obtienes **[FALLO: TIMEOUT]** la funcion no es optima debes cambiarla hasta que todas las pruebas pasen"
   ]
  },
  {
   "cell_type": "code",
   "execution_count": 27,
   "metadata": {},
   "outputs": [
    {
     "name": "stdout",
     "output_type": "stream",
     "text": [
      "Prueba 1\n",
      "Run time: 0.0\n",
      "Prueba 1[CORRECTA]\n",
      "Prueba 2\n",
      "Run time: 0.0\n",
      "Prueba 2[CORRECTA]\n",
      "Prueba 3\n",
      "Run time: 0.0\n",
      "Prueba 3[CORRECTA]\n",
      "Prueba 4\n",
      "Run time: 0.0\n",
      "Prueba 4[CORRECTA]\n",
      "Prueba 5\n",
      "Run time: 0.0\n",
      "Prueba 5[CORRECTA]\n",
      "Prueba 6\n",
      "Run time: 0.0\n",
      "Prueba 6[CORRECTA]\n",
      "Prueba 7\n",
      "Run time: 0.0\n",
      "Prueba 7[CORRECTA]\n",
      "Prueba 8\n",
      "Run time: 0.0\n",
      "Prueba 8[CORRECTA]\n",
      "Prueba 9\n",
      "Run time: 0.0\n",
      "Prueba 9[CORRECTA]\n",
      "Prueba 10\n",
      "Run time: 0.0\n",
      "Prueba 10[CORRECTA]\n",
      "Prueba 11\n",
      "Run time: 0.0\n",
      "Prueba 11[CORRECTA]\n",
      "Prueba 12\n",
      "Run time: 0.0\n",
      "Prueba 12[CORRECTA]\n"
     ]
    }
   ],
   "source": [
    "validaciones.primeCount_function(conteoPrimos)"
   ]
  },
  {
   "cell_type": "markdown",
   "metadata": {},
   "source": [
    "## 5 - Conteo de patrones\n",
    "\n",
    "En este problema tienes que encontrar cuantas veces aparace en un texto cierto partron.\n",
    "\n",
    "Ejemplo:\n",
    "\n",
    "Entrada: GCGCG patron : GCG\n",
    "\n",
    "Resultado: 2"
   ]
  },
  {
   "cell_type": "code",
   "execution_count": 10,
   "metadata": {},
   "outputs": [],
   "source": [
    "def patternCount(text, pattern):\n",
    "    DNAlist = list(text)\n",
    "    AAcount = len(pattern)\n",
    "    counter = 0\n",
    "    for i in range(len(DNAlist)-(AAcount-1)):\n",
    "        codon = str()\n",
    "        for j in range(AAcount):\n",
    "            codon += DNAlist[i+j]\n",
    "        if codon == pattern:\n",
    "            counter += 1\n",
    "    return counter\n",
    "        \n",
    "    "
   ]
  },
  {
   "cell_type": "markdown",
   "metadata": {},
   "source": [
    "#### Prueba tu codigo\n",
    "Texto: GACCATCAAAACTGATAAACTACTTAAAAATCAGT\n",
    "\n",
    "Patron: AAA\n",
    "    \n",
    "Resultado: 6"
   ]
  },
  {
   "cell_type": "code",
   "execution_count": 11,
   "metadata": {},
   "outputs": [
    {
     "data": {
      "text/plain": [
       "6"
      ]
     },
     "execution_count": 11,
     "metadata": {},
     "output_type": "execute_result"
    }
   ],
   "source": [
    "patternCount(\"GACCATCAAAACTGATAAACTACTTAAAAATCAGT\", \"AAA\")"
   ]
  },
  {
   "cell_type": "markdown",
   "metadata": {},
   "source": [
    "### Pruebas  Automaticas\n",
    "\n",
    "Todas las pruebas deben funcionar para obetener los puntos del ejercicio."
   ]
  },
  {
   "cell_type": "code",
   "execution_count": 12,
   "metadata": {},
   "outputs": [
    {
     "ename": "NameError",
     "evalue": "name 'validaciones' is not defined",
     "output_type": "error",
     "traceback": [
      "\u001b[1;31m---------------------------------------------------------------------------\u001b[0m",
      "\u001b[1;31mNameError\u001b[0m                                 Traceback (most recent call last)",
      "\u001b[1;32m<ipython-input-12-cca318c583a4>\u001b[0m in \u001b[0;36m<module>\u001b[1;34m\u001b[0m\n\u001b[1;32m----> 1\u001b[1;33m \u001b[0mvalidaciones\u001b[0m\u001b[1;33m.\u001b[0m\u001b[0mpatternCount_function\u001b[0m\u001b[1;33m(\u001b[0m\u001b[0mpatternCount\u001b[0m\u001b[1;33m)\u001b[0m\u001b[1;33m\u001b[0m\u001b[1;33m\u001b[0m\u001b[0m\n\u001b[0m",
      "\u001b[1;31mNameError\u001b[0m: name 'validaciones' is not defined"
     ]
    }
   ],
   "source": [
    "validaciones.patternCount_function(patternCount)"
   ]
  },
  {
   "cell_type": "markdown",
   "metadata": {},
   "source": [
    "## 6 - Palabras Frecuentes\n",
    "\n",
    "El reto de este algoritmo es encontrar de la forma mas optima posible, los mas frecuentes *k-mers* en un texto, puedes reutilizar tu funcion **patternCount** para este problema\n",
    "\n",
    "\n",
    "Ejemplo:\n",
    "\n",
    "**Texto** = ACTGACTCCCACCCC y **k** = 3. \n",
    "\n",
    "Como k es 3 el primer **k-mer** = ACT, el segundo seria CTG, pensemos en **k-mer** como una ventana de longitud *k* que escanea todo el texto.\n",
    "\n",
    "El resultado de nuestra funcion tiene que ser una lista con el o los **k-mers** que mas aparecen en el texto, para nuestro ejemplo el resutlado debe ser: **CCC**\n",
    "\n",
    "Count(0) = Count(4) = 2 porque **ACT** aparece 2 veces en el texto.\n",
    "\n",
    "<img src=\"assets/count_array.png\" width=\"60%\">"
   ]
  },
  {
   "cell_type": "code",
   "execution_count": 21,
   "metadata": {},
   "outputs": [],
   "source": [
    "def frecuentWords(text, k):\n",
    "    dictdna = {}\n",
    "    DNA = list(text)\n",
    "    for i in range(len(DNA) - (k-1)):\n",
    "        pattern = DNA[i:i+k]\n",
    "        pattern = ''.join(pattern)\n",
    "        dictdna[pattern]= patternCount(text, pattern)\n",
    "    maxfreqpattern = max(dictdna.values())\n",
    "    resultlist = []\n",
    "    for key in dictdna:\n",
    "        if dictdna[key] == maxfreqpattern:\n",
    "            resultlist.append(key)\n",
    "    return resultlist\n",
    "    #return dictdna\n",
    "    \n",
    "        \n",
    "        \n",
    "    \n",
    "    ## tu codigo aqui"
   ]
  },
  {
   "cell_type": "markdown",
   "metadata": {},
   "source": [
    "### Prueba tu codigo\n",
    "text = ACGTTGCATGTCGCATGATGCATGAGAGCT\n",
    "\n",
    "k= 4\n",
    "\n",
    "Resultado:\n",
    "\n",
    "[CATG, GCAT]"
   ]
  },
  {
   "cell_type": "code",
   "execution_count": 22,
   "metadata": {},
   "outputs": [
    {
     "name": "stdout",
     "output_type": "stream",
     "text": [
      "{'ACGT': 1, 'CGTT': 1, 'GTTG': 1, 'TTGC': 1, 'TGCA': 2, 'GCAT': 3, 'CATG': 3, 'ATGT': 1, 'TGTC': 1, 'GTCG': 1, 'TCGC': 1, 'CGCA': 1, 'ATGA': 2, 'TGAT': 1, 'GATG': 1, 'ATGC': 1, 'TGAG': 1, 'GAGA': 1, 'AGAG': 1, 'GAGC': 1, 'AGCT': 1}\n"
     ]
    },
    {
     "data": {
      "text/plain": [
       "['GCAT', 'CATG']"
      ]
     },
     "execution_count": 22,
     "metadata": {},
     "output_type": "execute_result"
    }
   ],
   "source": [
    "frecuentWords(\"ACGTTGCATGTCGCATGATGCATGAGAGCT\", 4)"
   ]
  },
  {
   "cell_type": "markdown",
   "metadata": {},
   "source": [
    "### Pruebas  Automaticas\n",
    "\n",
    "Todas las pruebas deben funcionar para obetener los puntos del ejercicio."
   ]
  },
  {
   "cell_type": "code",
   "execution_count": 17,
   "metadata": {},
   "outputs": [
    {
     "name": "stdout",
     "output_type": "stream",
     "text": [
      "Prueba [CORRECTA]\n"
     ]
    }
   ],
   "source": [
    "validaciones.frecuentWords_function(frecuentWords)"
   ]
  },
  {
   "cell_type": "markdown",
   "metadata": {},
   "source": [
    "# 7- Metodo de Euler\n",
    "\n",
    "El metodo de Euler se utiliza para aproximar la solucion particular de una ecuacion diferencial dado un valor inicial. Con esta informacion se sabe que la grafica de esa solucion pasa a traves del punto $(x_0,y_0)$ y tiene una pendiente $F(x_0,y_0)$ en ese punto, esto da un punto de partida para aproximar la solucion.\n",
    "\n",
    "A partir del punto inicial, se sigue en la direccion indicada por la pendiente. Mediante un pequeño paso $h$, se mueve a lo largo de la recta tangente hasta llegar al punto $(x_1,y_1)$ donde:\n",
    "\\begin{equation*}\n",
    "\\ x_1 = x_0 + h       \\\\\n",
    "\\ y_1 = y_0 + hF(x_0,y_0)\\\\\n",
    "\\end{equation*}\n",
    "\n",
    "\n",
    "<img src=\"assets/Euler.png\" width=\"350\">\n",
    "\n",
    "Como se muestra en la figura se considera $(x_1,y_1)$ como un nuevo punto inicial.\n",
    "\n",
    "Los valores de $x$ son:\n",
    "\\begin{equation*}\n",
    "\\ x_1 = x_0 + h       \\\\\n",
    "\\ x_2 = x_1 + h       \\\\\n",
    "\\    .                \\\\\n",
    "\\    .                \\\\\n",
    "\\    .                \\\\\n",
    "\\ x_n = x_{n-1} + h   \\\\\n",
    "\\end{equation*}\n",
    "\n",
    "\n",
    "Los valores de $y$ son:\n",
    "\\begin{equation*}\n",
    "\\ y_1 = y_0 + hF(x_0,y_0)\\\\\n",
    "\\ y_1 = y_1 + hF(x_1,y_1)\\\\\n",
    "\\       . \\\\\n",
    "\\       . \\\\\n",
    "\\       . \\\\\n",
    "\\ y_n = y_{n-1} + hF(x_{n-1},y_{n-1})\\\\\n",
    "\\end{equation*}\n",
    "\n",
    "\n",
    "#### Problema 7\n",
    "El ejecicio consiste en implementar la funcion *euler_metod* esta funcion recibe como parametro el \n",
    "* punto inicial $x_0$\n",
    "* punto inicial $y_0$\n",
    "* Paso $h$ \n",
    "* numero de iteraciones $n$ \n",
    "* La equacion diferencial que queremos aproximar, esta funcion tambien recibe los parametros $x$ y $y$\n",
    "* La funcion de la solucion exacta que tambien tambien recibe los parametros $x$ y $y$\n",
    "\n",
    "La funcion debe retornar el valor de $y_n$ y el error\n",
    "$error=|y - y_n|$ "
   ]
  },
  {
   "cell_type": "code",
   "execution_count": 26,
   "metadata": {},
   "outputs": [],
   "source": [
    "def euler_method(x,y,h,n, diff_eq, func):\n",
    "    \"\"\"\n",
    "    Parametros x, y punto inicial, logitud del paso h , n numero de iteraciones,\n",
    "    diff_eq la equacion diferencial y func la funcion de la solucion exacta\n",
    "    Retorna y y el error\n",
    "    \"\"\"\n",
    "    # tu codigo aqui\n",
    "    xnew = x\n",
    "    ynew = y\n",
    "    for i in range(n):\n",
    "        pendiente = diff_eq(xnew,ynew)\n",
    "        xnew += h\n",
    "        ynew += h * pendiente\n",
    "        realsolution = func(xnew)\n",
    "        error = abs(realsolution - ynew)\n",
    "        print(\"Iteracion\", i +1)\n",
    "        print(\"x:\",xnew,\"yaprox:\",ynew, \"y:\",realsolution, \"error:\",error)\n",
    "        "
   ]
  },
  {
   "cell_type": "markdown",
   "metadata": {},
   "source": [
    "### Ejemplo\n",
    "\n",
    "Queremos aproximar la solucion particular de la ecuacion diferencial\n",
    "\\begin{equation*}\n",
    "\\ \\frac{\\partial y}{\\partial x} = -2y \\\\\n",
    "\\end{equation*}\n",
    "Donde $y(0) = 4$ vamos a unsa un de $h=0.1$\n",
    "\n",
    "\\begin{equation*}\n",
    "\\ y = 4e^{-2x} \\\\\n",
    "\\end{equation*}"
   ]
  },
  {
   "cell_type": "code",
   "execution_count": 27,
   "metadata": {},
   "outputs": [],
   "source": [
    "### Implementando las funciones del ejemplo\n",
    "import math \n",
    "\n",
    "def y_prime(x, y):\n",
    "    return -2*y\n",
    "\n",
    "def y(x):\n",
    "    return 4 * math.exp(-2*x)"
   ]
  },
  {
   "cell_type": "code",
   "execution_count": 28,
   "metadata": {},
   "outputs": [
    {
     "name": "stdout",
     "output_type": "stream",
     "text": [
      "Iteracion 1\n",
      "x: 0.1 yaprox: 3.2 y: 3.2749230123119273 error: 0.0749230123119271\n",
      "Iteracion 2\n",
      "x: 0.2 yaprox: 2.56 y: 2.6812801841425573 error: 0.12128018414255726\n",
      "Iteracion 3\n",
      "x: 0.30000000000000004 yaprox: 2.048 y: 2.1952465443761056 error: 0.14724654437610551\n",
      "Iteracion 4\n",
      "x: 0.4 yaprox: 1.6384 y: 1.7973158564688863 error: 0.15891585646888617\n",
      "Iteracion 5\n",
      "x: 0.5 yaprox: 1.31072 y: 1.4715177646857693 error: 0.16079776468576923\n",
      "Iteracion 6\n",
      "x: 0.6 yaprox: 1.0485760000000002 y: 1.2047768476488085 error: 0.15620084764880837\n",
      "Iteracion 7\n",
      "x: 0.7 yaprox: 0.8388608000000002 y: 0.986387855766426 error: 0.14752705576642577\n",
      "Iteracion 8\n",
      "x: 0.7999999999999999 yaprox: 0.6710886400000001 y: 0.8075860719786218 error: 0.13649743197862163\n",
      "Iteracion 9\n",
      "x: 0.8999999999999999 yaprox: 0.5368709120000001 y: 0.6611955528863462 error: 0.1243246408863461\n",
      "Iteracion 10\n",
      "x: 0.9999999999999999 yaprox: 0.4294967296000001 y: 0.5413411329464509 error: 0.1118444033464508\n"
     ]
    }
   ],
   "source": [
    "\"\"\"\n",
    "Llamamos a la funcion de euler\n",
    "euler_method(0,4,0.1,10, y_prime,y)\n",
    "Parametros :\n",
    "x = 0\n",
    "y = 4\n",
    "d = 0.1\n",
    "n = 10\n",
    "diff_eq = y_prime\n",
    "func = y\n",
    "\"\"\"\n",
    "\n",
    "euler_method(0,4,0.1,10, y_prime,y)"
   ]
  },
  {
   "cell_type": "markdown",
   "metadata": {},
   "source": [
    "## 8 - XOR\n",
    "\n",
    "En la siguiente celda crea una funcion para la compuerta logica XOR \n",
    "\n",
    "<img src=\"assets/xor.png\" width=\"400\">\n"
   ]
  },
  {
   "cell_type": "code",
   "execution_count": 29,
   "metadata": {},
   "outputs": [],
   "source": [
    "def xor(a,b):\n",
    "    \"\"\"\n",
    "    Esta funcion recibe dos valores booleanos, ejemplo xor(1, 0) o True y False\n",
    "    y retorna 0 o 1 como resultado de la operacion logica XOR\n",
    "    \"\"\"\n",
    "    if a==b:\n",
    "        return 0\n",
    "    else:\n",
    "        return 1"
   ]
  },
  {
   "cell_type": "code",
   "execution_count": 30,
   "metadata": {},
   "outputs": [
    {
     "data": {
      "text/plain": [
       "1"
      ]
     },
     "execution_count": 30,
     "metadata": {},
     "output_type": "execute_result"
    }
   ],
   "source": [
    "xor(0 , 1) "
   ]
  },
  {
   "cell_type": "code",
   "execution_count": 31,
   "metadata": {},
   "outputs": [
    {
     "data": {
      "text/plain": [
       "0"
      ]
     },
     "execution_count": 31,
     "metadata": {},
     "output_type": "execute_result"
    }
   ],
   "source": [
    "xor(0 , 0)"
   ]
  },
  {
   "cell_type": "code",
   "execution_count": 32,
   "metadata": {},
   "outputs": [
    {
     "data": {
      "text/plain": [
       "1"
      ]
     },
     "execution_count": 32,
     "metadata": {},
     "output_type": "execute_result"
    }
   ],
   "source": [
    "xor(True , False)"
   ]
  },
  {
   "cell_type": "markdown",
   "metadata": {},
   "source": [
    "### Pruebas  Automaticas\n",
    "\n",
    "Todas las pruebas deben funcionar para obetener los puntos del ejercicio."
   ]
  },
  {
   "cell_type": "code",
   "execution_count": 33,
   "metadata": {},
   "outputs": [
    {
     "name": "stdout",
     "output_type": "stream",
     "text": [
      "Prueba 1\n",
      "Prueba 1 [CORRECTA]\n",
      "Prueba 2\n",
      "Prueba 2 [CORRECTA]\n"
     ]
    }
   ],
   "source": [
    "validaciones.xor_function(xor)"
   ]
  },
  {
   "cell_type": "markdown",
   "metadata": {},
   "source": [
    "## 9 - Maximo producto de parejas\n",
    "\n",
    "Encontrar el numero maximo del producto en 2 listas de numeros enteros no negativos\n",
    "\n",
    "**Entrada:** Una lista de numeros enteros\n",
    "**Salida:**  El valor maximo que se puede obtener multiplicando 2 elementos **diferentes** de la lista\n",
    "\n",
    "Ejemplo:\n",
    "\n",
    "Entrada : [5, 6, 2, 7, 4]\n",
    "Salida: 42\n",
    "\n",
    "<img src=\"assets/max_pairwise.png\" width=\"15%\">"
   ]
  },
  {
   "cell_type": "code",
   "execution_count": 34,
   "metadata": {},
   "outputs": [
    {
     "data": {
      "text/plain": [
       "42"
      ]
     },
     "execution_count": 34,
     "metadata": {},
     "output_type": "execute_result"
    }
   ],
   "source": [
    "  lista = [5,6,2,7,4]\n",
    "    \n",
    "    \n",
    "def max_pairwise(lista):\n",
    "    ## tu codigo aqui\n",
    "    lista.sort()\n",
    "    summax = lista[-1] * lista[-2]\n",
    "    return summax\n",
    "\n",
    "max_pairwise(lista)\n",
    "    \n",
    "    "
   ]
  },
  {
   "cell_type": "markdown",
   "metadata": {},
   "source": [
    "## 10 - Ultimo Comun Multiplo\n",
    "\n",
    "El ultimo comun multipo de 2 positivos enteros $a$ y $b$ es el ultimo numero entero positivo mas pequeño $m$ que es divisible por $a$ y $b$\n",
    "\n",
    "Ejemplo:\n",
    "Entrada 6, 8\n",
    "Salida 24"
   ]
  },
  {
   "cell_type": "code",
   "execution_count": 4,
   "metadata": {},
   "outputs": [],
   "source": [
    "\n",
    "def lcm(a,b):\n",
    "    primelist = [2,3]\n",
    "    factors = []\n",
    "    product = 1\n",
    "    n = primelist[-1]\n",
    "    while a != 1 or b != 1:\n",
    "        for i in primelist:\n",
    "            while a%i == 0 or b%i == 0:\n",
    "                factors.append(i)\n",
    "                if a%i == 0:\n",
    "                    a /= i\n",
    "                if b%i == 0:\n",
    "                    b /= i\n",
    "        if a!= 1 or b!= 1:\n",
    "            n += 2\n",
    "            counter = 0\n",
    "            for i in range(1,n+1):\n",
    "                if n%i == 0:\n",
    "                    counter += 1\n",
    "            if counter == 2:\n",
    "                primelist.append(n)\n",
    "    for i in factors:\n",
    "        product *= i\n",
    "    return(product)\n",
    "    "
   ]
  },
  {
   "cell_type": "markdown",
   "metadata": {},
   "source": [
    "#### Prueba tu codigo\n",
    "Entrada: 28851538 1183019\n",
    "\n",
    "Salida: 1933053046"
   ]
  },
  {
   "cell_type": "code",
   "execution_count": 3,
   "metadata": {},
   "outputs": [
    {
     "ename": "NameError",
     "evalue": "name 'lcm' is not defined",
     "output_type": "error",
     "traceback": [
      "\u001b[1;31m---------------------------------------------------------------------------\u001b[0m",
      "\u001b[1;31mNameError\u001b[0m                                 Traceback (most recent call last)",
      "\u001b[1;32m<ipython-input-3-7e31ffedcda4>\u001b[0m in \u001b[0;36m<module>\u001b[1;34m\u001b[0m\n\u001b[1;32m----> 1\u001b[1;33m \u001b[0mlcm\u001b[0m\u001b[1;33m(\u001b[0m\u001b[1;36m28851538\u001b[0m\u001b[1;33m,\u001b[0m \u001b[1;36m1183019\u001b[0m\u001b[1;33m)\u001b[0m\u001b[1;33m\u001b[0m\u001b[1;33m\u001b[0m\u001b[0m\n\u001b[0m",
      "\u001b[1;31mNameError\u001b[0m: name 'lcm' is not defined"
     ]
    }
   ],
   "source": [
    "lcm(28851538, 1183019)"
   ]
  }
 ],
 "metadata": {
  "kernelspec": {
   "display_name": "Python 3",
   "language": "python",
   "name": "python3"
  },
  "language_info": {
   "codemirror_mode": {
    "name": "ipython",
    "version": 3
   },
   "file_extension": ".py",
   "mimetype": "text/x-python",
   "name": "python",
   "nbconvert_exporter": "python",
   "pygments_lexer": "ipython3",
   "version": "3.7.3"
  }
 },
 "nbformat": 4,
 "nbformat_minor": 4
}
